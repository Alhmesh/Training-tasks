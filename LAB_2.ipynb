{
  "nbformat": 4,
  "nbformat_minor": 0,
  "metadata": {
    "colab": {
      "provenance": [],
      "authorship_tag": "ABX9TyMt2xMnOULQZIADDF7s5TTC",
      "include_colab_link": true
    },
    "kernelspec": {
      "name": "python3",
      "display_name": "Python 3"
    },
    "language_info": {
      "name": "python"
    }
  },
  "cells": [
    {
      "cell_type": "markdown",
      "metadata": {
        "id": "view-in-github",
        "colab_type": "text"
      },
      "source": [
        "<a href=\"https://colab.research.google.com/github/Alhmesh/Training-tasks/blob/main/LAB_2.ipynb\" target=\"_parent\"><img src=\"https://colab.research.google.com/assets/colab-badge.svg\" alt=\"Open In Colab\"/></a>"
      ]
    },
    {
      "cell_type": "code",
      "execution_count": null,
      "metadata": {
        "colab": {
          "base_uri": "https://localhost:8080/"
        },
        "id": "lGCvjUuY6qhZ",
        "outputId": "84d9215b-c7c5-46de-9472-1254c7265a6d"
      },
      "outputs": [
        {
          "output_type": "stream",
          "name": "stdout",
          "text": [
            "<class 'tuple'>\n"
          ]
        }
      ],
      "source": [
        "# for first Question (Create Tuple with three elements:)\n",
        "\n",
        "Tup = (1, 'Abdullah', 2.5)\n",
        "print(type(Tup))"
      ]
    },
    {
      "cell_type": "code",
      "source": [
        "# Q2 how do you access the second element of a list?\n",
        "\n",
        "answer = [2,5,8,'Abdullah']\n",
        "print(answer[1])\n",
        "\n",
        "x=[1,2,3,4,5,6,7,8,9,10]\n",
        "y = len(x)\n",
        "if y%2 == 1:\n",
        "  print('odd')\n",
        "elif y%2 == 0:\n",
        "  print('even')"
      ],
      "metadata": {
        "colab": {
          "base_uri": "https://localhost:8080/"
        },
        "id": "GMAFgdDA7Ad2",
        "outputId": "0c3301cf-5eac-4973-a59c-ed1a4972b011"
      },
      "execution_count": null,
      "outputs": [
        {
          "output_type": "stream",
          "name": "stdout",
          "text": [
            "5\n",
            "even\n"
          ]
        }
      ]
    },
    {
      "cell_type": "code",
      "source": [
        "# Question 3 Write program to add two using a function\n",
        "\n",
        "def addTwoNum(Number1, Number2):\n",
        "  result = Number1 + Number2\n",
        "  print('The result for adding two number:= ',result)\n",
        "  return result\n",
        "\n",
        "num1 = 5\n",
        "num2 = 6\n",
        "\n",
        "addTwoNum(num1,num2)"
      ],
      "metadata": {
        "colab": {
          "base_uri": "https://localhost:8080/"
        },
        "id": "nNsGwaxl7r1M",
        "outputId": "21f62c9f-8e55-4f22-ad19-4928be72d8df"
      },
      "execution_count": null,
      "outputs": [
        {
          "output_type": "stream",
          "name": "stdout",
          "text": [
            "The result for adding two number:=  11\n"
          ]
        },
        {
          "output_type": "execute_result",
          "data": {
            "text/plain": [
              "11"
            ]
          },
          "metadata": {},
          "execution_count": 4
        }
      ]
    },
    {
      "cell_type": "code",
      "source": [
        "# for Question 4 explain the difference between a list and a tuple\n",
        "theList = [1, 2, 3, 4, 5] # the List between square brackets\n",
        "\n",
        "theTuple = (1,2,3,4,5) #the tuple between two brackets\n",
        "print(type(theList))\n",
        "print(type(theTuple))"
      ],
      "metadata": {
        "colab": {
          "base_uri": "https://localhost:8080/"
        },
        "id": "qfM05eUe9a3J",
        "outputId": "4a6ce24f-ceeb-4e1f-cc76-a5f496aa66fc"
      },
      "execution_count": null,
      "outputs": [
        {
          "output_type": "stream",
          "name": "stdout",
          "text": [
            "<class 'list'>\n",
            "<class 'tuple'>\n"
          ]
        }
      ]
    },
    {
      "cell_type": "code",
      "source": [
        "# Question 5 check if a key mention in dictionary:\n",
        "\n",
        "Dict = {'Abdullah':'Engineer','Dream':'Robotics'}\n",
        "\n",
        "key_to_check = 'Mohammed'\n",
        "\n",
        "if key_to_check in Dict.keys():\n",
        "  print(\"I found the key\")\n",
        "else:\n",
        "  print('the key is not founded')"
      ],
      "metadata": {
        "colab": {
          "base_uri": "https://localhost:8080/"
        },
        "id": "N4Vr1w0AYnFV",
        "outputId": "9c1cfb7f-2f11-49ac-dd24-7be94806511f"
      },
      "execution_count": null,
      "outputs": [
        {
          "output_type": "stream",
          "name": "stdout",
          "text": [
            "the key is not founded\n"
          ]
        }
      ]
    },
    {
      "cell_type": "code",
      "source": [
        "# Question 6 : Write a pyton function to found the maximum of three numbers.\n",
        "\n",
        "def maximum(number):\n",
        "  Max = max(number)\n",
        "  maxposi = number.index(max(number))\n",
        "  print('the maximum number is=', Max, 'and the index of this number is=', maxposi)\n",
        "\n",
        "listOfNumbers = [1, 50 , 40, 6, 8, 15]\n",
        "maximum(listOfNumbers)"
      ],
      "metadata": {
        "colab": {
          "base_uri": "https://localhost:8080/"
        },
        "id": "RPuNzFNXlsWC",
        "outputId": "b73d8817-24e6-4a71-d115-df100c30bc67"
      },
      "execution_count": null,
      "outputs": [
        {
          "output_type": "stream",
          "name": "stdout",
          "text": [
            "the maximum number is= 50 and the index of this number is= 1\n"
          ]
        }
      ]
    },
    {
      "cell_type": "code",
      "source": [
        "# Q7: Create a Set of three elements\n",
        "\n",
        "mysets = {\"Apple\", \"Tomato\", \"Banana\"}\n",
        "print(type(mysets))"
      ],
      "metadata": {
        "colab": {
          "base_uri": "https://localhost:8080/"
        },
        "id": "ZvmZsmT0o3P1",
        "outputId": "9da78529-7f53-4faa-bbaa-d2bca2e4c30b"
      },
      "execution_count": null,
      "outputs": [
        {
          "output_type": "stream",
          "name": "stdout",
          "text": [
            "<class 'set'>\n"
          ]
        }
      ]
    },
    {
      "cell_type": "code",
      "source": [
        "# Q8 use for loop to print number from 1 - 5:\n",
        "counter = 0\n",
        "for counter in range(5):\n",
        "  print(counter + 1)"
      ],
      "metadata": {
        "colab": {
          "base_uri": "https://localhost:8080/"
        },
        "id": "Pvyj07HDpWIn",
        "outputId": "a18a7c2f-bd33-41ff-f01e-e392b4126499"
      },
      "execution_count": null,
      "outputs": [
        {
          "output_type": "stream",
          "name": "stdout",
          "text": [
            "1\n",
            "2\n",
            "3\n",
            "4\n",
            "5\n"
          ]
        }
      ]
    },
    {
      "cell_type": "code",
      "source": [
        "#Q9 convert list to sets:\n",
        "\n",
        "lis = [1,2,3,4,5,6,7,8,9]\n",
        "NewSet = set(lis)\n",
        "print(type(NewSet))"
      ],
      "metadata": {
        "colab": {
          "base_uri": "https://localhost:8080/"
        },
        "id": "BQ_Q41Oiremg",
        "outputId": "0743b061-92df-44b0-a71a-b35fb6581e91"
      },
      "execution_count": null,
      "outputs": [
        {
          "output_type": "stream",
          "name": "stdout",
          "text": [
            "<class 'set'>\n"
          ]
        }
      ]
    },
    {
      "cell_type": "code",
      "source": [
        "#Q 10: write a program to calculate the factorial of a number using a while loop.\n",
        "number = 25\n",
        "if number < 0:\n",
        "  print(\"the factorial is:\", 0)\n",
        "elif number == 0 or number == 1:\n",
        "  print('The factorial is:', 1)\n",
        "else:\n",
        "  fact = 1\n",
        "  while number > 1:\n",
        "    fact *= number ## fact = fact * number\n",
        "    number -= 1 ## number = number - 1\n",
        "  print('The factorial number is:', fact)"
      ],
      "metadata": {
        "colab": {
          "base_uri": "https://localhost:8080/"
        },
        "id": "s8P_n4JYsL45",
        "outputId": "5e2f94bd-765d-4d48-d289-295ce3fdf478"
      },
      "execution_count": null,
      "outputs": [
        {
          "output_type": "stream",
          "name": "stdout",
          "text": [
            "The factorial number is: 15511210043330985984000000\n"
          ]
        }
      ]
    },
    {
      "cell_type": "code",
      "source": [
        "# Q 11: explaine the purpose of the if statement in python\n",
        "# the purpose of the if statement is to check if the condition is correct or not\n",
        "\n",
        "example = 10\n",
        "\n",
        "if example > 6:\n",
        "  print('the value of example variable is bigger than the condition')"
      ],
      "metadata": {
        "colab": {
          "base_uri": "https://localhost:8080/"
        },
        "id": "JoeajKGtxELn",
        "outputId": "d8d767db-737e-41a0-8e2c-2904deec4a40"
      },
      "execution_count": null,
      "outputs": [
        {
          "output_type": "stream",
          "name": "stdout",
          "text": [
            "the value of example variable is bigger than the condition\n"
          ]
        }
      ]
    },
    {
      "cell_type": "code",
      "source": [
        "# Q 12: Write a function that takes a list of as a parameter and retruns the sum of its elements.\n",
        "\n",
        "def sumOfList(numberOfList):\n",
        "  result = 0\n",
        "  for val in numberOfList:\n",
        "    result = val + result\n",
        "  return print('the sum of this list is:', result)\n",
        "\n",
        "lis = [10,20,30,40]\n",
        "sumOfList(lis)"
      ],
      "metadata": {
        "colab": {
          "base_uri": "https://localhost:8080/"
        },
        "id": "23XZdqotx0U9",
        "outputId": "72f379cd-fe67-4056-f0dc-848a9ab68538"
      },
      "execution_count": null,
      "outputs": [
        {
          "output_type": "stream",
          "name": "stdout",
          "text": [
            "the sum of this list is: 100\n"
          ]
        }
      ]
    },
    {
      "cell_type": "code",
      "source": [
        "# Q13: Create a dict with keys 'name' and 'age'\n",
        "\n",
        "Dict = {'name':'Abdullah','age':32}\n",
        "print(Dict.keys())\n",
        "print(Dict.values())"
      ],
      "metadata": {
        "colab": {
          "base_uri": "https://localhost:8080/"
        },
        "id": "cZqkMvevyzXt",
        "outputId": "e1b9f316-3357-490e-a75a-bf5ccb47e64b"
      },
      "execution_count": null,
      "outputs": [
        {
          "output_type": "stream",
          "name": "stdout",
          "text": [
            "dict_keys(['name', 'age'])\n",
            "dict_values(['Abdullah', 32])\n"
          ]
        }
      ]
    },
    {
      "cell_type": "code",
      "source": [
        "# Q 14: Use a while loop to print numbers from 1 - 3\n",
        "counter = 1\n",
        "while counter < 4:\n",
        "  print(counter)\n",
        "  counter += 1"
      ],
      "metadata": {
        "colab": {
          "base_uri": "https://localhost:8080/"
        },
        "id": "u6I5_j91z3fP",
        "outputId": "cf0b4da9-562e-436e-8355-21a3ff46ac7d"
      },
      "execution_count": null,
      "outputs": [
        {
          "output_type": "stream",
          "name": "stdout",
          "text": [
            "1\n",
            "2\n",
            "3\n"
          ]
        }
      ]
    },
    {
      "cell_type": "code",
      "source": [
        "# Q 15: Explain the use of 'else' in python\n",
        "\n",
        "# We use else as final option.\n",
        "\n",
        "example = 5\n",
        "\n",
        "if example < 5:\n",
        "  print('this message will not shown')\n",
        "else:\n",
        "  print('this message will appear')"
      ],
      "metadata": {
        "colab": {
          "base_uri": "https://localhost:8080/"
        },
        "id": "HJ1EL53G0Nik",
        "outputId": "21038af6-e391-42be-a7a3-bc383652fd80"
      },
      "execution_count": null,
      "outputs": [
        {
          "output_type": "stream",
          "name": "stdout",
          "text": [
            "this message will appear\n"
          ]
        }
      ]
    },
    {
      "cell_type": "code",
      "source": [
        "# Q 16: Find the square root of a number using the math module\n",
        "\n",
        "import math\n",
        "\n",
        "testNumber = 25\n",
        "result = math.sqrt(testNumber)\n",
        "print(result)"
      ],
      "metadata": {
        "colab": {
          "base_uri": "https://localhost:8080/"
        },
        "id": "y_fiVaym1Ia2",
        "outputId": "6562b5ea-093e-491c-a065-1914bc4ce483"
      },
      "execution_count": null,
      "outputs": [
        {
          "output_type": "stream",
          "name": "stdout",
          "text": [
            "5.0\n"
          ]
        }
      ]
    },
    {
      "cell_type": "code",
      "source": [
        "# Q 17: Concatenate two lists\n",
        "\n",
        "List1 = [1,2,3,4,5]\n",
        "List2 = [6,7,8,9,10]\n",
        "\n",
        "print(List1 + List2)"
      ],
      "metadata": {
        "colab": {
          "base_uri": "https://localhost:8080/"
        },
        "id": "6La_D20W1j1Z",
        "outputId": "39fa9997-fd55-4251-d130-954318836729"
      },
      "execution_count": null,
      "outputs": [
        {
          "output_type": "stream",
          "name": "stdout",
          "text": [
            "[1, 2, 3, 4, 5, 6, 7, 8, 9, 10]\n"
          ]
        }
      ]
    },
    {
      "cell_type": "code",
      "source": [
        "#Q 18: check if a value is present in a tuple\n",
        "tuple1 = (1,2,3, 'name','Abdullah')\n",
        "\n",
        "check_the_value = 'name'\n",
        "\n",
        "if check_the_value in tuple1:\n",
        "  print('I found the element')\n",
        "else:\n",
        "  print(\"I didn't found the element \")"
      ],
      "metadata": {
        "colab": {
          "base_uri": "https://localhost:8080/"
        },
        "id": "vwnUzhUY12kQ",
        "outputId": "a76b2dde-4d4d-405c-971f-a8677edb6f36"
      },
      "execution_count": null,
      "outputs": [
        {
          "output_type": "stream",
          "name": "stdout",
          "text": [
            "I found the element\n"
          ]
        }
      ]
    },
    {
      "cell_type": "code",
      "source": [
        "# Q 19: Write a function that takes two parameters and retrun their sum\n",
        "\n",
        "def sumOfTwoNumber(number1,number2):\n",
        "  result = number1 + number2\n",
        "  print(result)\n",
        "\n",
        "sumOfTwoNumber(10,10)"
      ],
      "metadata": {
        "colab": {
          "base_uri": "https://localhost:8080/"
        },
        "id": "JKS0RUuN2Wmq",
        "outputId": "cf9364dc-1142-4fe3-e13e-3081dd8b2891"
      },
      "execution_count": null,
      "outputs": [
        {
          "output_type": "stream",
          "name": "stdout",
          "text": [
            "20\n"
          ]
        }
      ]
    },
    {
      "cell_type": "code",
      "source": [
        "# Q20: Create a numpy array with elements 1, 2, and 3:\n",
        "\n",
        "import numpy as np\n",
        "\n",
        "elements = np.array([1,2,3])\n",
        "print(elements)"
      ],
      "metadata": {
        "id": "WEu3Ct1a27y1",
        "colab": {
          "base_uri": "https://localhost:8080/"
        },
        "outputId": "7aeb6122-8fec-4e88-9c04-f33ab67807af"
      },
      "execution_count": null,
      "outputs": [
        {
          "output_type": "stream",
          "name": "stdout",
          "text": [
            "[1 2 3]\n"
          ]
        }
      ]
    },
    {
      "cell_type": "code",
      "source": [
        "# 21: Use for loop to iterate through a dictionary and print it is keys and values\n",
        "Dict = {'Name':'Abdullah', 'ID':12345,'Age':35}\n",
        "\n",
        "for akey in Dict:\n",
        "  print('the key:', akey, 'the values:', Dict[akey])"
      ],
      "metadata": {
        "colab": {
          "base_uri": "https://localhost:8080/"
        },
        "id": "XKWTZcNTbXLQ",
        "outputId": "dab18497-8dbb-43f4-b6dc-23db54ae6f6f"
      },
      "execution_count": null,
      "outputs": [
        {
          "output_type": "stream",
          "name": "stdout",
          "text": [
            "the key: Name the values: Abdullah\n",
            "the key: ID the values: 12345\n",
            "the key: Age the values: 35\n"
          ]
        }
      ]
    },
    {
      "cell_type": "code",
      "source": [
        "# Q 22: Write a progam to check if a number is even or odd\n",
        "\n",
        "RandomNumber = 7\n",
        "if RandomNumber % 2 == 0:\n",
        "  print('This number is even and')\n",
        "else:\n",
        "  print('This number is odd')"
      ],
      "metadata": {
        "colab": {
          "base_uri": "https://localhost:8080/"
        },
        "id": "MSjoTUHVzF9n",
        "outputId": "228dba15-fbfd-453e-8a6c-d88e35df181f"
      },
      "execution_count": null,
      "outputs": [
        {
          "output_type": "stream",
          "name": "stdout",
          "text": [
            "This number is odd\n"
          ]
        }
      ]
    },
    {
      "cell_type": "code",
      "source": [
        "# Q 23: Remove an element from a set:\n",
        "\n",
        "Set = {112, 56, 'Hello', 'Smart'}\n",
        "print(Set)\n",
        "Set.remove(112)\n",
        "print(Set)"
      ],
      "metadata": {
        "colab": {
          "base_uri": "https://localhost:8080/"
        },
        "id": "tAyha-OIzoFD",
        "outputId": "553bd8ee-83ef-48c3-c032-1daa22340bed"
      },
      "execution_count": null,
      "outputs": [
        {
          "output_type": "stream",
          "name": "stdout",
          "text": [
            "{112, 56, 'Hello', 'Smart'}\n",
            "{56, 'Hello', 'Smart'}\n"
          ]
        }
      ]
    },
    {
      "cell_type": "code",
      "source": [
        "# Q 24: Explain the purpose of 'elif' in python\n",
        "\n",
        "#let's say we have a condition and we pass a value to this condition statement,\n",
        "# but the first condition does not work due to the value not matching,\n",
        "# then we can use 'elif', to have another option for checking if the value matches."
      ],
      "metadata": {
        "id": "fuPsXXfJ0XNx"
      },
      "execution_count": null,
      "outputs": []
    },
    {
      "cell_type": "code",
      "source": [
        "# Q 25: Write a function that takes a string as input and returns its length\n",
        "\n",
        "def length(values):\n",
        "  counter = 0\n",
        "  for value in values:\n",
        "    counter += 1\n",
        "  return print(counter)\n",
        "\n",
        "List = [1,2,3,4,5,6,7,8,9]\n",
        "length(List)"
      ],
      "metadata": {
        "colab": {
          "base_uri": "https://localhost:8080/"
        },
        "id": "zFuTaXDa1cHN",
        "outputId": "f58a74e4-42cf-45a6-b477-37c85fd5719d"
      },
      "execution_count": null,
      "outputs": [
        {
          "output_type": "stream",
          "name": "stdout",
          "text": [
            "9\n"
          ]
        }
      ]
    },
    {
      "cell_type": "code",
      "source": [
        "# Q 26: Create a dicionary with nested dictionaries\n",
        "\n",
        "Dict = {\n",
        "    'Dict1': {'First':1, 'Second': 2},\n",
        "    'Dict2': {'Third': 3, 'Forth': 4},\n",
        "    'Dict3': {'Fifth': 5, 'Sixed': 6}}\n",
        "print(Dict)"
      ],
      "metadata": {
        "colab": {
          "base_uri": "https://localhost:8080/"
        },
        "id": "yjyUPqDq2bEk",
        "outputId": "e984a449-3638-4477-8d7e-719927a9548e"
      },
      "execution_count": null,
      "outputs": [
        {
          "output_type": "stream",
          "name": "stdout",
          "text": [
            "{'Dict1': {'First': 1, 'Second': 2}, 'Dict2': {'Third': 3, 'Forth': 4}, 'Dict3': {'Fifth': 5, 'Sixed': 6}}\n"
          ]
        }
      ]
    },
    {
      "cell_type": "code",
      "source": [
        "# Q27: Use list comprehenstion to create a list of squares from 1 to 5\n",
        "List = []\n",
        "for number in range(1,6):\n",
        "  square = number**2\n",
        "  List.append(square)\n",
        "print(List)"
      ],
      "metadata": {
        "colab": {
          "base_uri": "https://localhost:8080/"
        },
        "id": "2vgdiR1N30D6",
        "outputId": "bf2ed5df-d402-4dc1-c264-4dc86a7fa385"
      },
      "execution_count": null,
      "outputs": [
        {
          "output_type": "stream",
          "name": "stdout",
          "text": [
            "[1, 4, 9, 16, 25]\n"
          ]
        }
      ]
    },
    {
      "cell_type": "code",
      "source": [
        "# Q28: Find the index if an element in a list:\n",
        "\n",
        "List = [1,2,3,4,5,6,7,8,9]\n",
        "check_the_index = 9\n",
        "\n",
        "print('the index for given number is:', List.index(check_the_index))\n"
      ],
      "metadata": {
        "colab": {
          "base_uri": "https://localhost:8080/"
        },
        "id": "JG9u7Qdd5dF1",
        "outputId": "b8e29b6f-180c-4719-bd3f-d4d2f8deca44"
      },
      "execution_count": null,
      "outputs": [
        {
          "output_type": "stream",
          "name": "stdout",
          "text": [
            "the index for given number is: 8\n"
          ]
        }
      ]
    },
    {
      "cell_type": "code",
      "source": [
        "# Q29: Write a program to reverse a string\n",
        "\n",
        "def reverse(value):\n",
        "  return value[::-1]\n",
        "\n",
        "input_string = 'Hello, World!, my name is Abdullah'\n",
        "reverse(input_string)"
      ],
      "metadata": {
        "colab": {
          "base_uri": "https://localhost:8080/",
          "height": 35
        },
        "id": "WCrmkpjO66Pz",
        "outputId": "f3ac5b3d-ec41-474d-89f7-944ac035291c"
      },
      "execution_count": null,
      "outputs": [
        {
          "output_type": "execute_result",
          "data": {
            "text/plain": [
              "'halludbA si eman ym ,!dlroW ,olleH'"
            ],
            "application/vnd.google.colaboratory.intrinsic+json": {
              "type": "string"
            }
          },
          "metadata": {},
          "execution_count": 46
        }
      ]
    },
    {
      "cell_type": "code",
      "source": [
        "# Q 30: Calculate the sum of all elements in a numpy array.\n",
        "\n",
        "import numpy as np\n",
        "\n",
        "num = np.array([1,2,3,4])\n",
        "print(sum(num))"
      ],
      "metadata": {
        "colab": {
          "base_uri": "https://localhost:8080/"
        },
        "id": "fE2IWMLN_kmH",
        "outputId": "5aa5d2d1-02c6-4080-ed13-d27d2a954061"
      },
      "execution_count": null,
      "outputs": [
        {
          "output_type": "stream",
          "name": "stdout",
          "text": [
            "10\n"
          ]
        }
      ]
    },
    {
      "cell_type": "code",
      "source": [
        "# Q 31 : Create a Tuple and convert it to a list\n",
        "\n",
        "Tuple = (1, 2, 3, 4 ,5, 6)\n",
        "print(type(Tuple))\n",
        "List = list(Tuple)\n",
        "print(type(List))"
      ],
      "metadata": {
        "colab": {
          "base_uri": "https://localhost:8080/"
        },
        "id": "t4Lv4qvcAOkr",
        "outputId": "c3402ecf-7fb5-438c-f6de-51d057f254c8"
      },
      "execution_count": null,
      "outputs": [
        {
          "output_type": "stream",
          "name": "stdout",
          "text": [
            "<class 'tuple'>\n",
            "<class 'list'>\n"
          ]
        }
      ]
    },
    {
      "cell_type": "code",
      "source": [
        "# Q 32 Write a program to print the Fibonacci sequence up to 10 terms.\n",
        "\n",
        "def Fibonacci_sequence(numbers):\n",
        "  Fib_seq = []\n",
        "  for value in range(len(numbers) - 1):\n",
        "    Fib_seq.append(numbers[value] + numbers[value + 1])\n",
        "  return print('the result of Fibonacci sequence:', Fib_seq)\n",
        "\n",
        "List = [0, 1, 1, 2, 3, 5, 8, 13, 21, 34, 55, 89, 144, 233]\n",
        "Fibonacci_sequence(List)"
      ],
      "metadata": {
        "colab": {
          "base_uri": "https://localhost:8080/"
        },
        "id": "ddDMu2n8qGNf",
        "outputId": "a018489c-c4c2-428e-c713-e3fb3041ef1c"
      },
      "execution_count": null,
      "outputs": [
        {
          "output_type": "stream",
          "name": "stdout",
          "text": [
            "the result of Fibonacci sequence: [1, 2, 3, 5, 8, 13, 21, 34, 55, 89, 144, 233, 377]\n"
          ]
        }
      ]
    },
    {
      "cell_type": "code",
      "source": [
        "# Q 33: Check if a key exists in a dictionary using \"in\" keyword.\n",
        "\n",
        "Dict = {'Name': 'Abdullah', 'Age': 30}\n",
        "\n",
        "print('Name' in Dict)"
      ],
      "metadata": {
        "colab": {
          "base_uri": "https://localhost:8080/"
        },
        "id": "j3a_-XAs3Zeh",
        "outputId": "8252ee1a-898d-452b-c5ce-6a009e0d43e5"
      },
      "execution_count": null,
      "outputs": [
        {
          "output_type": "stream",
          "name": "stdout",
          "text": [
            "True\n"
          ]
        }
      ]
    },
    {
      "cell_type": "code",
      "source": [
        "# Q 34: Write a function to calculate the average of a list\n",
        "\n",
        "def average(numbers):\n",
        "  counter = 0\n",
        "  result = 0\n",
        "  for values in numbers:\n",
        "    result += values\n",
        "    counter += 1\n",
        "  return print(result / counter)\n",
        "\n",
        "List = [1, 2, 3, 4, 5, 6, 7, 8, 9]\n",
        "average(List)"
      ],
      "metadata": {
        "colab": {
          "base_uri": "https://localhost:8080/"
        },
        "id": "2IlPZQOu4TyK",
        "outputId": "3f5ec50c-018e-4933-c2a9-e5f91f93c840"
      },
      "execution_count": null,
      "outputs": [
        {
          "output_type": "stream",
          "name": "stdout",
          "text": [
            "5.0\n"
          ]
        }
      ]
    },
    {
      "cell_type": "code",
      "source": [
        "# Q 35: Use a while loop to print even number from 2 to 8\n",
        "counter = 0\n",
        "while counter < 8:\n",
        "  counter += 2\n",
        "  print(counter)"
      ],
      "metadata": {
        "colab": {
          "base_uri": "https://localhost:8080/"
        },
        "id": "NSi9dlvT6ZG_",
        "outputId": "55c6234e-23bc-49a6-dc28-8d0325f80283"
      },
      "execution_count": null,
      "outputs": [
        {
          "output_type": "stream",
          "name": "stdout",
          "text": [
            "2\n",
            "4\n",
            "6\n",
            "8\n"
          ]
        }
      ]
    },
    {
      "cell_type": "code",
      "source": [
        "# Q 36: Merge two dictionaries:\n",
        "\n",
        "Dict1 = {'Name': 'Abdullah', 'Age': 30}\n",
        "Dict2 = {'City': 'Riyadh', 'specialist': 'mechanical engineer'}\n",
        "\n",
        "Merge_Dict = {**Dict1, **Dict2}\n",
        "print(Merge_Dict)"
      ],
      "metadata": {
        "colab": {
          "base_uri": "https://localhost:8080/"
        },
        "id": "CIemTojz8OQb",
        "outputId": "447e1564-4185-49ae-f342-185e795655c8"
      },
      "execution_count": null,
      "outputs": [
        {
          "output_type": "stream",
          "name": "stdout",
          "text": [
            "{'Name': 'Abdullah', 'Age': 30, 'City': 'Riyadh', 'specialist': 'mechanical engineer'}\n"
          ]
        }
      ]
    },
    {
      "cell_type": "code",
      "source": [
        "# Q37: Convert a list of strigns to a single string using the join method\n",
        "\n",
        "List_of_strings = ['Abdullah', \"Mohammed\", \"Ahmed\"]\n",
        "List = \" \".join(List_of_strings)\n",
        "print(List)"
      ],
      "metadata": {
        "colab": {
          "base_uri": "https://localhost:8080/"
        },
        "id": "3CyP3bOQBCMk",
        "outputId": "cb93923d-aca6-483a-ecc0-7a09ab01c9bd"
      },
      "execution_count": null,
      "outputs": [
        {
          "output_type": "stream",
          "name": "stdout",
          "text": [
            "Abdullah Mohammed Ahmed\n"
          ]
        }
      ]
    },
    {
      "cell_type": "code",
      "source": [
        "# Q38: Find the maximum value in a numpay array\n",
        "\n",
        "import numpy as np\n",
        "\n",
        "arr = np.array([1, 2, 3, 4, 5])\n",
        "print(max(arr))"
      ],
      "metadata": {
        "colab": {
          "base_uri": "https://localhost:8080/"
        },
        "id": "yHv1GjltHRd-",
        "outputId": "68232f16-105c-4bfc-8b8f-c992a2c95e53"
      },
      "execution_count": null,
      "outputs": [
        {
          "output_type": "stream",
          "name": "stdout",
          "text": [
            "5\n"
          ]
        }
      ]
    },
    {
      "cell_type": "code",
      "source": [
        "# Q 39: Write a program to find the common elements between two lists\n",
        "\n",
        "def common(elements, values):\n",
        "  Com_element = []\n",
        "  for check in elements:\n",
        "    if check in values:\n",
        "      Com_element.append(check)\n",
        "  return print('the common values between the two lists: ', Com_element)\n",
        "\n",
        "List1 = [\"test\", 5, \"one\", 9]\n",
        "List2 = ['test', 8, 'two', 5]\n",
        "common(List1, List2)"
      ],
      "metadata": {
        "colab": {
          "base_uri": "https://localhost:8080/"
        },
        "id": "wCDRM0oTIFSb",
        "outputId": "6e380215-0f96-44eb-dcc9-40aa6b2a16fd"
      },
      "execution_count": null,
      "outputs": [
        {
          "output_type": "stream",
          "name": "stdout",
          "text": [
            "the common values between the two lists:  ['test', 5]\n"
          ]
        }
      ]
    },
    {
      "cell_type": "code",
      "source": [
        "# Q40: Explain the purpose of the 'breake' statement in a loop\n",
        "\n",
        "# break statement helps to control the flow of execution within loops and terminating when to exit the code lines"
      ],
      "metadata": {
        "id": "aXwk7cIWJuXD"
      },
      "execution_count": null,
      "outputs": []
    },
    {
      "cell_type": "markdown",
      "source": [
        "# New Section"
      ],
      "metadata": {
        "id": "BRhtX4yx3McV"
      }
    },
    {
      "cell_type": "code",
      "source": [
        "# HomeWorks:\n",
        "\n",
        "def mean(x):\n",
        "  val = 0\n",
        "  count = 0\n",
        "  for m in x:\n",
        "    val = val + m\n",
        "    count += 1\n",
        "  print(val / count)\n",
        "\n",
        "li = [1,2,3,4,5,6,7,8,9,10]\n",
        "mean(li)"
      ],
      "metadata": {
        "colab": {
          "base_uri": "https://localhost:8080/"
        },
        "id": "_vvJ7b7C_-eq",
        "outputId": "3e7fb199-5ce2-40e7-c705-20b1c36beea1"
      },
      "execution_count": null,
      "outputs": [
        {
          "output_type": "stream",
          "name": "stdout",
          "text": [
            "5.5\n"
          ]
        }
      ]
    },
    {
      "cell_type": "code",
      "source": [
        "# HomeWorks:\n",
        "\n",
        "def median(values):\n",
        "  counter = 0 # the counter should start from zero, so it can follow how many items in the list\n",
        "  for value in values:    # for loop is for count how many items we have\n",
        "    print('the value comes from the list:', value)\n",
        "    counter += 1\n",
        "    print('the counter:', counter)\n",
        "  if counter % 2 == 1:    # here we want to check if the list is odd or even\n",
        "    counter = int((counter + 1) / 2) # here we used the median function for the odd list\n",
        "    print(values[counter - 1])\n",
        "  else:\n",
        "    counter = int((((counter / 2)) + ((counter / 2 + 1))) / 2) # here we have use the median function for even\n",
        "    print((values[counter] + values[counter - 1]) / 2) # we have takes the value in values[3] + values[4] which there are (4 + 5) = 9, then we divide it by 2 so we have the median is 4.5\n",
        "\n",
        "lis = [1,2,3,4,5,6,7]\n",
        "median(lis)"
      ],
      "metadata": {
        "colab": {
          "base_uri": "https://localhost:8080/"
        },
        "id": "7SB4FOCHEQ6L",
        "outputId": "c74006d1-a77d-46b1-bc48-597b3976e40e"
      },
      "execution_count": null,
      "outputs": [
        {
          "output_type": "stream",
          "name": "stdout",
          "text": [
            "the value comes from the list: 1\n",
            "the counter: 1\n",
            "the value comes from the list: 2\n",
            "the counter: 2\n",
            "the value comes from the list: 3\n",
            "the counter: 3\n",
            "the value comes from the list: 4\n",
            "the counter: 4\n",
            "the value comes from the list: 5\n",
            "the counter: 5\n",
            "the value comes from the list: 6\n",
            "the counter: 6\n",
            "the value comes from the list: 7\n",
            "the counter: 7\n",
            "4\n"
          ]
        }
      ]
    },
    {
      "cell_type": "code",
      "source": [
        "# Example from the lecture:\n",
        "\n",
        "import numpy as np\n",
        "\n",
        "x = np.array([[[1, 2, 3, 4], [5, 6, 7, 8]], [[9, 10, 11, 12], [13, 14, 15, 16]]])\n",
        "for i in x:\n",
        "  #print(i)\n",
        "  for v in i:\n",
        "    #print(v)\n",
        "    for m in v:\n",
        "      print(m)"
      ],
      "metadata": {
        "id": "SyBDBjpKJ1Hr",
        "colab": {
          "base_uri": "https://localhost:8080/"
        },
        "outputId": "85c13fa9-f301-4ef4-fa58-0f34f8661ac0"
      },
      "execution_count": null,
      "outputs": [
        {
          "output_type": "stream",
          "name": "stdout",
          "text": [
            "1\n",
            "2\n",
            "3\n",
            "4\n",
            "5\n",
            "6\n",
            "7\n",
            "8\n",
            "9\n",
            "10\n",
            "11\n",
            "12\n",
            "13\n",
            "14\n",
            "15\n",
            "16\n"
          ]
        }
      ]
    },
    {
      "cell_type": "code",
      "source": [],
      "metadata": {
        "id": "dUf29qJPVtlA"
      },
      "execution_count": null,
      "outputs": []
    }
  ]
}